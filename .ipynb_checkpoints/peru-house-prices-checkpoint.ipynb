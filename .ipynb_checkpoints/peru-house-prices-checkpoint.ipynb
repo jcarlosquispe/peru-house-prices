{
 "cells": [
  {
   "cell_type": "code",
   "execution_count": 1,
   "metadata": {},
   "outputs": [],
   "source": [
    "import numpy as np\n",
    "import pandas as pd"
   ]
  },
  {
   "cell_type": "code",
   "execution_count": 3,
   "metadata": {},
   "outputs": [
    {
     "data": {
      "text/html": [
       "<div>\n",
       "<style scoped>\n",
       "    .dataframe tbody tr th:only-of-type {\n",
       "        vertical-align: middle;\n",
       "    }\n",
       "\n",
       "    .dataframe tbody tr th {\n",
       "        vertical-align: top;\n",
       "    }\n",
       "\n",
       "    .dataframe thead th {\n",
       "        text-align: right;\n",
       "    }\n",
       "</style>\n",
       "<table border=\"1\" class=\"dataframe\">\n",
       "  <thead>\n",
       "    <tr style=\"text-align: right;\">\n",
       "      <th></th>\n",
       "      <th>web-scraper-order</th>\n",
       "      <th>web-scraper-start-url</th>\n",
       "      <th>house-link</th>\n",
       "      <th>house-link-href</th>\n",
       "      <th>house-price</th>\n",
       "      <th>house-addr</th>\n",
       "      <th>house-availability</th>\n",
       "      <th>house-size</th>\n",
       "      <th>house-rooms</th>\n",
       "      <th>house-desc</th>\n",
       "      <th>house-baths</th>\n",
       "    </tr>\n",
       "  </thead>\n",
       "  <tbody>\n",
       "    <tr>\n",
       "      <td>0</td>\n",
       "      <td>1587214931-1</td>\n",
       "      <td>https://urbania.pe/buscar/venta-de-departament...</td>\n",
       "      <td>NaN</td>\n",
       "      <td>NaN</td>\n",
       "      <td>NaN</td>\n",
       "      <td>NaN</td>\n",
       "      <td>NaN</td>\n",
       "      <td>NaN</td>\n",
       "      <td>NaN</td>\n",
       "      <td>NaN</td>\n",
       "      <td>2 Baños</td>\n",
       "    </tr>\n",
       "    <tr>\n",
       "      <td>1</td>\n",
       "      <td>1587215431-882</td>\n",
       "      <td>https://urbania.pe/buscar/venta-de-departament...</td>\n",
       "      <td>NaN</td>\n",
       "      <td>NaN</td>\n",
       "      <td>NaN</td>\n",
       "      <td>Av. Prolongación Iquitos 2230, \\n\\t\\t\\t\\t\\t\\t\\...</td>\n",
       "      <td>NaN</td>\n",
       "      <td>NaN</td>\n",
       "      <td>NaN</td>\n",
       "      <td>NaN</td>\n",
       "      <td>NaN</td>\n",
       "    </tr>\n",
       "    <tr>\n",
       "      <td>2</td>\n",
       "      <td>1587215419-710</td>\n",
       "      <td>https://urbania.pe/buscar/venta-de-departament...</td>\n",
       "      <td>Vivero</td>\n",
       "      <td>https://urbania.pe/inmueble/proyecto-vivero-li...</td>\n",
       "      <td>NaN</td>\n",
       "      <td>NaN</td>\n",
       "      <td>NaN</td>\n",
       "      <td>NaN</td>\n",
       "      <td>NaN</td>\n",
       "      <td>NaN</td>\n",
       "      <td>NaN</td>\n",
       "    </tr>\n",
       "    <tr>\n",
       "      <td>3</td>\n",
       "      <td>1587215382-391</td>\n",
       "      <td>https://urbania.pe/buscar/venta-de-departament...</td>\n",
       "      <td>NaN</td>\n",
       "      <td>NaN</td>\n",
       "      <td>NaN</td>\n",
       "      <td>NaN</td>\n",
       "      <td>NaN</td>\n",
       "      <td>NaN</td>\n",
       "      <td>NaN</td>\n",
       "      <td>Edifica presenta alta, un nuevo estándar en es...</td>\n",
       "      <td>NaN</td>\n",
       "    </tr>\n",
       "    <tr>\n",
       "      <td>4</td>\n",
       "      <td>1587215407-644</td>\n",
       "      <td>https://urbania.pe/buscar/venta-de-departament...</td>\n",
       "      <td>NaN</td>\n",
       "      <td>NaN</td>\n",
       "      <td>NaN</td>\n",
       "      <td>NaN</td>\n",
       "      <td>NaN</td>\n",
       "      <td>39 a 61 \\n\\t\\t\\t\\t\\t\\t\\t\\n\\t\\t\\t\\t\\t\\t\\tm² tec...</td>\n",
       "      <td>NaN</td>\n",
       "      <td>NaN</td>\n",
       "      <td>NaN</td>\n",
       "    </tr>\n",
       "  </tbody>\n",
       "</table>\n",
       "</div>"
      ],
      "text/plain": [
       "  web-scraper-order                              web-scraper-start-url  \\\n",
       "0      1587214931-1  https://urbania.pe/buscar/venta-de-departament...   \n",
       "1    1587215431-882  https://urbania.pe/buscar/venta-de-departament...   \n",
       "2    1587215419-710  https://urbania.pe/buscar/venta-de-departament...   \n",
       "3    1587215382-391  https://urbania.pe/buscar/venta-de-departament...   \n",
       "4    1587215407-644  https://urbania.pe/buscar/venta-de-departament...   \n",
       "\n",
       "  house-link                                    house-link-href house-price  \\\n",
       "0        NaN                                                NaN         NaN   \n",
       "1        NaN                                                NaN         NaN   \n",
       "2     Vivero  https://urbania.pe/inmueble/proyecto-vivero-li...         NaN   \n",
       "3        NaN                                                NaN         NaN   \n",
       "4        NaN                                                NaN         NaN   \n",
       "\n",
       "                                          house-addr house-availability  \\\n",
       "0                                                NaN                NaN   \n",
       "1  Av. Prolongación Iquitos 2230, \\n\\t\\t\\t\\t\\t\\t\\...                NaN   \n",
       "2                                                NaN                NaN   \n",
       "3                                                NaN                NaN   \n",
       "4                                                NaN                NaN   \n",
       "\n",
       "                                          house-size house-rooms  \\\n",
       "0                                                NaN         NaN   \n",
       "1                                                NaN         NaN   \n",
       "2                                                NaN         NaN   \n",
       "3                                                NaN         NaN   \n",
       "4  39 a 61 \\n\\t\\t\\t\\t\\t\\t\\t\\n\\t\\t\\t\\t\\t\\t\\tm² tec...         NaN   \n",
       "\n",
       "                                          house-desc house-baths  \n",
       "0                                                NaN     2 Baños  \n",
       "1                                                NaN         NaN  \n",
       "2                                                NaN         NaN  \n",
       "3  Edifica presenta alta, un nuevo estándar en es...         NaN  \n",
       "4                                                NaN         NaN  "
      ]
     },
     "execution_count": 3,
     "metadata": {},
     "output_type": "execute_result"
    }
   ],
   "source": [
    "df = pd.read_csv('urbania_houses.csv')\n",
    "df.head()"
   ]
  },
  {
   "cell_type": "code",
   "execution_count": 4,
   "metadata": {},
   "outputs": [
    {
     "data": {
      "text/plain": [
       "web-scraper-order           0\n",
       "web-scraper-start-url       0\n",
       "house-link               1862\n",
       "house-link-href          1862\n",
       "house-price              1872\n",
       "house-addr               1862\n",
       "house-availability       1867\n",
       "house-size               1864\n",
       "house-rooms              1864\n",
       "house-desc               1862\n",
       "house-baths              1884\n",
       "dtype: int64"
      ]
     },
     "execution_count": 4,
     "metadata": {},
     "output_type": "execute_result"
    }
   ],
   "source": [
    "df.isna().sum()"
   ]
  },
  {
   "cell_type": "code",
   "execution_count": 5,
   "metadata": {},
   "outputs": [
    {
     "data": {
      "text/plain": [
       "(2133, 11)"
      ]
     },
     "execution_count": 5,
     "metadata": {},
     "output_type": "execute_result"
    }
   ],
   "source": [
    "df.shape"
   ]
  }
 ],
 "metadata": {
  "kernelspec": {
   "display_name": "Python 3",
   "language": "python",
   "name": "python3"
  },
  "language_info": {
   "codemirror_mode": {
    "name": "ipython",
    "version": 3
   },
   "file_extension": ".py",
   "mimetype": "text/x-python",
   "name": "python",
   "nbconvert_exporter": "python",
   "pygments_lexer": "ipython3",
   "version": "3.7.4"
  }
 },
 "nbformat": 4,
 "nbformat_minor": 2
}
